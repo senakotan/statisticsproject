{
 "cells": [
  {
   "cell_type": "code",
   "execution_count": 1,
   "id": "3082e952-e024-488e-9946-26a81b1e4e6d",
   "metadata": {},
   "outputs": [
    {
     "name": "stdout",
     "output_type": "stream",
     "text": [
      "Ortalama: 10.495357142857143\n",
      "Medyan: 3.065\n",
      "Varyans: 229.84046013261965\n",
      "Standart Sapma: 15.160490101992734\n",
      "Standart Hata: 0.8638490957168635\n"
     ]
    }
   ],
   "source": [
    "import pandas as pd\n",
    "df = pd.read_csv(\"yacht_hydro.csv\")\n",
    "\n",
    "# Rr sütunundaki verilerin ortalamasını hesaplıyoruz\n",
    "mean = df[\"Rr\"].mean()\n",
    "\n",
    "# Rr sütunundaki verilerin medyanını (ortanca değer) hesaplıyoruz\n",
    "median = df[\"Rr\"].median()\n",
    "\n",
    "# Rr sütununun varyansını hesaplıyoruz (dağılımın kare ortalaması)\n",
    "var = df[\"Rr\"].var()\n",
    "\n",
    "# Rr sütununun standart sapmasını hesaplıyoruz (verilerin ortalamaya uzaklığı)\n",
    "std = df[\"Rr\"].std()\n",
    "\n",
    "# Rr sütununun standart hatasını hesaplıyoruz (ortalama güvenilirliği)\n",
    "se = std / (len(df[\"Rr\"]) ** 0.5)\n",
    "\n",
    "# Sonuçları ekrana yazdırıyoruz\n",
    "print(f\"Ortalama: {mean}\")\n",
    "print(f\"Medyan: {median}\")\n",
    "print(f\"Varyans: {var}\")\n",
    "print(f\"Standart Sapma: {std}\")\n",
    "print(f\"Standart Hata: {se}\")\n"
   ]
  },
  {
   "cell_type": "code",
   "execution_count": 9,
   "id": "63a413f1-e1d3-4a78-b828-0c69f3a91e53",
   "metadata": {},
   "outputs": [
    {
     "data": {
      "image/png": "[encoded data removed]",
      "text/plain": [
       "<Figure size 1200x500 with 2 Axes>"
      ]
     },
     "metadata": {},
     "output_type": "display_data"
    }
   ],
   "source": [
    "# Gerekli kütüphaneleri içe aktarıyoruz\n",
    "import matplotlib.pyplot as plt\n",
    "import seaborn as sns\n",
    "\n",
    "# Grafik alanının boyutunu ayarlıyoruz (genişlik x yükseklik)\n",
    "plt.figure(figsize=(12, 5))\n",
    "\n",
    "# İlk alt grafik: Histogram\n",
    "plt.subplot(1, 2, 1)  # 1 satır, 2 sütunluk alanda 1. grafik\n",
    "plt.hist(df[\"Rr\"], bins=30)  # Rr sütununu 30 aralıkla histogram olarak çiziyoruz\n",
    "plt.title(\"Histogram of Rr\")  # Başlık ekliyoruz\n",
    "\n",
    "# İkinci alt grafik: Boxplot (Kutu grafiği)\n",
    "plt.subplot(1, 2, 2)  # 1 satır, 2 sütunluk alanda 2. grafik\n",
    "sns.boxplot(x=df[\"Rr\"])  # Rr sütununa ait boxplot çizimi\n",
    "plt.title(\"Boxplot of Rr\")  # Başlık ekliyoruz\n",
    "\n",
    "# Alt grafikler arasında düzenli boşluk bırakmak için layout ayarlanıyor\n",
    "plt.tight_layout()\n",
    "\n",
    "# Grafikleri ekranda gösteriyoruz\n",
    "plt.show()\n",
    "\n",
    "#Yorum: Histogram sağa çarpık (right-skewed) bir dağılım gösteriyor.\n",
    "\n",
    "# Bu, verilerin büyük kısmının küçük Rr değerlerinde yoğunlaştığını ama bazı yüksek Rr değerlerinin olduğunu gösteriyor.\n",
    "\n",
    "# Histogram, verinin sağa çarpık olduğunu ve bazı yüksek dirençli teknelerin aykırı olduğunu gösterir.\n",
    "\n",
    "# Boxplot, veri setinde çok sayıda yüksek Rr değerli aykırı gözlem olduğunu gösterir.\n"
   ]
  },
  {
   "cell_type": "code",
   "execution_count": 4,
   "id": "675776be-c634-42c0-b305-b6cf77d41da0",
   "metadata": {},
   "outputs": [
    {
     "name": "stdout",
     "output_type": "stream",
     "text": [
      "Aykırı değer sayısı: 42\n"
     ]
    }
   ],
   "source": [
    "# Rr sütununun %25'lik (1. çeyrek) değerini hesaplıyoruz\n",
    "Q1 = df[\"Rr\"].quantile(0.25)\n",
    "\n",
    "# Rr sütununun %75'lik (3. çeyrek) değerini hesaplıyoruz\n",
    "Q3 = df[\"Rr\"].quantile(0.75)\n",
    "\n",
    "# IQR: Interquartile Range (çeyrekler arası açıklık) hesaplanıyor\n",
    "IQR = Q3 - Q1\n",
    "\n",
    "# Aykırı değerleri tespit etmek için alt sınır belirleniyor\n",
    "alt_sinir = Q1 - 1.5 * IQR\n",
    "\n",
    "# Aykırı değerleri tespit etmek için üst sınır belirleniyor\n",
    "ust_sinir = Q3 + 1.5 * IQR\n",
    "\n",
    "# Belirlenen alt ve üst sınırların dışında kalan veriler aykırı değer olarak kabul ediliyor\n",
    "outliers = df[(df[\"Rr\"] < alt_sinir) | (df[\"Rr\"] > ust_sinir)]\n",
    "\n",
    "# Aykırı değer sayısını ekrana yazdırıyoruz\n",
    "print(f\"Aykırı değer sayısı: {len(outliers)}\")\n",
    "\n"
   ]
  },
  {
   "cell_type": "code",
   "execution_count": 5,
   "id": "36f0ef61-4578-42cd-b0e6-92d335629ff1",
   "metadata": {},
   "outputs": [
    {
     "name": "stdout",
     "output_type": "stream",
     "text": [
      "Ortalama için %95 GA: (8.80221291525209, 12.188501370462197)\n",
      "Varyans için %95 GA: (197.41120843390658, 271.01834679212396)\n"
     ]
    }
   ],
   "source": [
    "# Gerekli kütüphaneleri yüklüyoruz\n",
    "import scipy.stats as stats\n",
    "import numpy as np\n",
    "\n",
    "# Rr sütunundaki veri sayısını hesaplıyoruz\n",
    "n = len(df[\"Rr\"])\n",
    "\n",
    "# Ortalama, standart sapma ve varyansı hesaplıyoruz\n",
    "mean = df[\"Rr\"].mean()\n",
    "std = df[\"Rr\"].std()\n",
    "var = df[\"Rr\"].var()\n",
    "\n",
    "# --- Ortalama için %95 güven aralığı ---\n",
    "\n",
    "# %95 güven düzeyine karşılık gelen Z değeri\n",
    "z = 1.96\n",
    "\n",
    "# Standart hata (SE) = s / sqrt(n)\n",
    "se = std / np.sqrt(n)\n",
    "\n",
    "# Ortalama için alt ve üst güven sınırlarını hesaplıyoruz\n",
    "ci_mean = (mean - z * se, mean + z * se)\n",
    "\n",
    "# --- Varyans için %95 güven aralığı ---\n",
    "\n",
    "# Güven düzeyi için anlamlılık seviyesi (alpha)\n",
    "alpha = 0.05\n",
    "\n",
    "# Chi-square dağılımından alt ve üst kritik değerleri alıyoruz\n",
    "chi2_lower = stats.chi2.ppf(1 - alpha/2, df=n - 1)\n",
    "chi2_upper = stats.chi2.ppf(alpha/2, df=n - 1)\n",
    "\n",
    "# Varyans için güven aralığını hesaplıyoruz\n",
    "ci_var = ((n - 1) * var / chi2_lower, (n - 1) * var / chi2_upper)\n",
    "\n",
    "# Sonuçları ekrana yazdırıyoruz\n",
    "print(f\"Ortalama için %95 GA: {ci_mean}\")\n",
    "print(f\"Varyans için %95 GA: {ci_var}\")\n",
    "\n"
   ]
  },
  {
   "cell_type": "code",
   "execution_count": 6,
   "id": "6a8f060b-8648-439c-8a6d-8323bd82c7c7",
   "metadata": {},
   "outputs": [
    {
     "name": "stdout",
     "output_type": "stream",
     "text": [
      "T-istatistiği: 11.570721312803494\n",
      "P-değeri: 6.109012976127442e-26\n",
      "H0 REDDEDİLİR → Ortalama 0.5’ten büyüktür.\n"
     ]
    }
   ],
   "source": [
    "# Hipotezler:\n",
    "# H0 (null hipotez): Rr ortalaması 0.5'e eşit veya küçüktür\n",
    "# H1 (alternatif hipotez): Rr ortalaması 0.5'ten büyüktür\n",
    "\n",
    "# Tek örneklem t-testi uygulanıyor. df[\"Rr\"] verisi, popülasyon ortalaması 0.5'e karşı test ediliyor.\n",
    "t_stat, p_value = stats.ttest_1samp(df[\"Rr\"], popmean=0.5)\n",
    "\n",
    "# Hesaplanan t-istatistiğini yazdırıyoruz\n",
    "print(f\"T-istatistiği: {t_stat}\")\n",
    "\n",
    "# Hesaplanan p-değerini yazdırıyoruz\n",
    "print(f\"P-değeri: {p_value}\")\n",
    "\n",
    "# Karar: Eğer p-değeri/2 < 0.05 VE t-istatistiği pozitifse → H0 reddedilir\n",
    "# Bu, ortalamanın 0.5'ten anlamlı derecede büyük olduğunu gösterir\n",
    "if p_value / 2 < 0.05 and t_stat > 0:\n",
    "    print(\"H0 REDDEDİLİR → Ortalama 0.5’ten büyüktür.\")\n",
    "else:\n",
    "    print(\"H0 REDDEDİLEMEZ.\")  # Veriler H0 hipotezini reddetmek için yeterli değildir\n",
    "\n"
   ]
  },
  {
   "cell_type": "code",
   "execution_count": 7,
   "id": "20976c2b-4441-4f10-880d-ea9c33b53ccd",
   "metadata": {},
   "outputs": [
    {
     "name": "stdout",
     "output_type": "stream",
     "text": [
      "Gerekli minimum örneklem sayısı: 62196\n"
     ]
    }
   ],
   "source": [
    "# Örneklem büyüklüğü hesaplaması:\n",
    "# Amaç: Ortalama tahmini için en az kaç gözlem gerektiğini bulmak\n",
    "\n",
    "# 90% güven düzeyi için Z değeri (standard normal tablosundan)\n",
    "z = 1.645  # %90 için z değeri\n",
    "\n",
    "# Hata payı (maximum tolerans) = 0.1 olarak belirlendi.\n",
    "margin_error = 0.1\n",
    "\n",
    "# Gerekli minimum örneklem sayısını hesaplıyoruz (n ≥ (z * σ / E)^2)\n",
    "# σ: standart sapma, E: hata payı\n",
    "n_required = (z * std / margin_error) ** 2\n",
    "\n",
    "# Sayıyı yukarı yuvarlayarak tam sayı olarak yazdırıyoruz\n",
    "print(f\"Gerekli minimum örneklem sayısı: {int(np.ceil(n_required))}\")\n",
    "\n"
   ]
  },
  {
   "cell_type": "code",
   "execution_count": null,
   "id": "65e4a669-d109-4cf9-83fe-f03845d5fa31",
   "metadata": {},
   "outputs": [],
   "source": []
  }
 ],
 "metadata": {
  "kernelspec": {
   "display_name": "Python 3 (ipykernel)",
   "language": "python",
   "name": "python3"
  },
  "language_info": {
   "codemirror_mode": {
    "name": "ipython",
    "version": 3
   },
   "file_extension": ".py",
   "mimetype": "text/x-python",
   "name": "python",
   "nbconvert_exporter": "python",
   "pygments_lexer": "ipython3",
   "version": "3.12.7"
  }
 },
 "nbformat": 4,
 "nbformat_minor": 5
}
